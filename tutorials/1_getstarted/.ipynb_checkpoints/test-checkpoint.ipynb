{
 "metadata": {
  "name": "",
  "signature": "sha256:1e633a90714c12851ae9e668ad504690217c4bca82bb9ed034babfe7004b2899"
 },
 "nbformat": 3,
 "nbformat_minor": 0,
 "worksheets": []
}